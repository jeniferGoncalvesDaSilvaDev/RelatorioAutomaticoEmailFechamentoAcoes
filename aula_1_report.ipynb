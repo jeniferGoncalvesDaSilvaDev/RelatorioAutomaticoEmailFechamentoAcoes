{
  "cells": [
    {
      "cell_type": "markdown",
      "metadata": {
        "id": "view-in-github",
        "colab_type": "text"
      },
      "source": [
        "<a href=\"https://colab.research.google.com/github/jeniferGoncalvesDaSilvaDev/RelatorioAutomaticoEmailFechamentoAcoes/blob/main/aula_1_report.ipynb\" target=\"_parent\"><img src=\"https://colab.research.google.com/assets/colab-badge.svg\" alt=\"Open In Colab\"/></a>"
      ]
    },
    {
      "cell_type": "markdown",
      "id": "d5355376-7a59-4154-a82d-6405d0156e89",
      "metadata": {
        "id": "d5355376-7a59-4154-a82d-6405d0156e89"
      },
      "source": [
        "# Projeto 1: Report de mercado\n",
        "\n",
        "### Desafio:\n",
        "\n",
        "* Automação de um relatório de fechamento de mercado com o Python através da coleta de cotações históricas do Ibovespa e Dólar e do envio diário através de uma ferramenta de e-mail automaticamente.  \n",
        "\n",
        "### Passo a passo:\n",
        "\n",
        "*   **Passo 1** - Instalar e importar os módulos e bibliotecas.\n",
        "   \n",
        "   \n",
        "*   **Passo 2** - Pegar as cotações históricas.\n",
        "   \n",
        "   \n",
        "*   **Passo 3** - Tratar dados coletados.\n",
        "   \n",
        "   \n",
        "*   **Passo 4** - Criar gráficos de performance.\n",
        "   \n",
        "   \n",
        "*   **Passo 5** - Calcular retornos diários.\n",
        "   \n",
        "   \n",
        "*   **Passo 6** - Configurar e enviar o e-mail.\n",
        "\n",
        "# Dúvidas no meu INSTAGRAM @BRENNO.VAROS\n",
        "   \n",
        "-------------------"
      ]
    },
    {
      "cell_type": "markdown",
      "id": "ef8505e8-178d-4615-b4f0-b498d9fb298e",
      "metadata": {
        "id": "ef8505e8-178d-4615-b4f0-b498d9fb298e"
      },
      "source": [
        "# Passo 1 - Instalar e importar os módulos e bibliotecas."
      ]
    },
    {
      "cell_type": "code",
      "execution_count": 16,
      "id": "5bce580f-1e45-4b2b-b338-44199391a734",
      "metadata": {
        "id": "5bce580f-1e45-4b2b-b338-44199391a734",
        "outputId": "365fae07-67ba-4ef8-c1ab-ef3d7ab02a4a",
        "colab": {
          "base_uri": "https://localhost:8080/"
        }
      },
      "outputs": [
        {
          "output_type": "stream",
          "name": "stdout",
          "text": [
            "Requirement already satisfied: mplcyberpunk in /usr/local/lib/python3.10/dist-packages (0.7.1)\n",
            "Requirement already satisfied: matplotlib in /usr/local/lib/python3.10/dist-packages (from mplcyberpunk) (3.7.1)\n",
            "Requirement already satisfied: contourpy>=1.0.1 in /usr/local/lib/python3.10/dist-packages (from matplotlib->mplcyberpunk) (1.3.0)\n",
            "Requirement already satisfied: cycler>=0.10 in /usr/local/lib/python3.10/dist-packages (from matplotlib->mplcyberpunk) (0.12.1)\n",
            "Requirement already satisfied: fonttools>=4.22.0 in /usr/local/lib/python3.10/dist-packages (from matplotlib->mplcyberpunk) (4.53.1)\n",
            "Requirement already satisfied: kiwisolver>=1.0.1 in /usr/local/lib/python3.10/dist-packages (from matplotlib->mplcyberpunk) (1.4.5)\n",
            "Requirement already satisfied: numpy>=1.20 in /usr/local/lib/python3.10/dist-packages (from matplotlib->mplcyberpunk) (1.26.4)\n",
            "Requirement already satisfied: packaging>=20.0 in /usr/local/lib/python3.10/dist-packages (from matplotlib->mplcyberpunk) (24.1)\n",
            "Requirement already satisfied: pillow>=6.2.0 in /usr/local/lib/python3.10/dist-packages (from matplotlib->mplcyberpunk) (9.4.0)\n",
            "Requirement already satisfied: pyparsing>=2.3.1 in /usr/local/lib/python3.10/dist-packages (from matplotlib->mplcyberpunk) (3.1.4)\n",
            "Requirement already satisfied: python-dateutil>=2.7 in /usr/local/lib/python3.10/dist-packages (from matplotlib->mplcyberpunk) (2.8.2)\n",
            "Requirement already satisfied: six>=1.5 in /usr/local/lib/python3.10/dist-packages (from python-dateutil>=2.7->matplotlib->mplcyberpunk) (1.16.0)\n"
          ]
        }
      ],
      "source": [
        "!pip install mplcyberpunk"
      ]
    },
    {
      "cell_type": "code",
      "execution_count": 17,
      "id": "0ebd28b2-c49a-4a00-9e78-392b3f83eb39",
      "metadata": {
        "id": "0ebd28b2-c49a-4a00-9e78-392b3f83eb39",
        "outputId": "b80a9e3f-1239-42c2-adb9-dcc11fd60fc9",
        "colab": {
          "base_uri": "https://localhost:8080/"
        }
      },
      "outputs": [
        {
          "output_type": "stream",
          "name": "stdout",
          "text": [
            "Requirement already satisfied: yfinance in /usr/local/lib/python3.10/dist-packages (0.2.43)\n",
            "Requirement already satisfied: pandas>=1.3.0 in /usr/local/lib/python3.10/dist-packages (from yfinance) (2.1.4)\n",
            "Requirement already satisfied: numpy>=1.16.5 in /usr/local/lib/python3.10/dist-packages (from yfinance) (1.26.4)\n",
            "Requirement already satisfied: requests>=2.31 in /usr/local/lib/python3.10/dist-packages (from yfinance) (2.32.3)\n",
            "Requirement already satisfied: multitasking>=0.0.7 in /usr/local/lib/python3.10/dist-packages (from yfinance) (0.0.11)\n",
            "Requirement already satisfied: lxml>=4.9.1 in /usr/local/lib/python3.10/dist-packages (from yfinance) (4.9.4)\n",
            "Requirement already satisfied: platformdirs>=2.0.0 in /usr/local/lib/python3.10/dist-packages (from yfinance) (4.2.2)\n",
            "Requirement already satisfied: pytz>=2022.5 in /usr/local/lib/python3.10/dist-packages (from yfinance) (2024.1)\n",
            "Requirement already satisfied: frozendict>=2.3.4 in /usr/local/lib/python3.10/dist-packages (from yfinance) (2.4.4)\n",
            "Requirement already satisfied: peewee>=3.16.2 in /usr/local/lib/python3.10/dist-packages (from yfinance) (3.17.6)\n",
            "Requirement already satisfied: beautifulsoup4>=4.11.1 in /usr/local/lib/python3.10/dist-packages (from yfinance) (4.12.3)\n",
            "Requirement already satisfied: html5lib>=1.1 in /usr/local/lib/python3.10/dist-packages (from yfinance) (1.1)\n",
            "Requirement already satisfied: soupsieve>1.2 in /usr/local/lib/python3.10/dist-packages (from beautifulsoup4>=4.11.1->yfinance) (2.6)\n",
            "Requirement already satisfied: six>=1.9 in /usr/local/lib/python3.10/dist-packages (from html5lib>=1.1->yfinance) (1.16.0)\n",
            "Requirement already satisfied: webencodings in /usr/local/lib/python3.10/dist-packages (from html5lib>=1.1->yfinance) (0.5.1)\n",
            "Requirement already satisfied: python-dateutil>=2.8.2 in /usr/local/lib/python3.10/dist-packages (from pandas>=1.3.0->yfinance) (2.8.2)\n",
            "Requirement already satisfied: tzdata>=2022.1 in /usr/local/lib/python3.10/dist-packages (from pandas>=1.3.0->yfinance) (2024.1)\n",
            "Requirement already satisfied: charset-normalizer<4,>=2 in /usr/local/lib/python3.10/dist-packages (from requests>=2.31->yfinance) (3.3.2)\n",
            "Requirement already satisfied: idna<4,>=2.5 in /usr/local/lib/python3.10/dist-packages (from requests>=2.31->yfinance) (3.8)\n",
            "Requirement already satisfied: urllib3<3,>=1.21.1 in /usr/local/lib/python3.10/dist-packages (from requests>=2.31->yfinance) (2.0.7)\n",
            "Requirement already satisfied: certifi>=2017.4.17 in /usr/local/lib/python3.10/dist-packages (from requests>=2.31->yfinance) (2024.8.30)\n"
          ]
        }
      ],
      "source": [
        "!pip install yfinance"
      ]
    },
    {
      "cell_type": "code",
      "execution_count": 18,
      "id": "92711384-2dfa-43e4-ba09-1c25623e7b56",
      "metadata": {
        "id": "92711384-2dfa-43e4-ba09-1c25623e7b56"
      },
      "outputs": [],
      "source": [
        "import yfinance as yf\n",
        "import pandas as pd\n",
        "import matplotlib.pyplot as plt\n",
        "import mplcyberpunk"
      ]
    },
    {
      "cell_type": "markdown",
      "id": "c41ae13e-6948-4e4e-8543-572828ab6a3c",
      "metadata": {
        "id": "c41ae13e-6948-4e4e-8543-572828ab6a3c"
      },
      "source": [
        "# Passo 2 - Pegar as cotações históricas"
      ]
    },
    {
      "cell_type": "code",
      "execution_count": 34,
      "id": "969005bd-2d4b-4c66-8b0e-26f6cf409ee4",
      "metadata": {
        "id": "969005bd-2d4b-4c66-8b0e-26f6cf409ee4"
      },
      "outputs": [],
      "source": [
        "tickers = [\"BTC-USD\"]"
      ]
    },
    {
      "cell_type": "code",
      "execution_count": 35,
      "id": "ec3416d6-5ed8-496c-a568-c2858069aef7",
      "metadata": {
        "id": "ec3416d6-5ed8-496c-a568-c2858069aef7",
        "outputId": "baf652f7-c8ae-4133-9e4c-c1c099d0277f",
        "colab": {
          "base_uri": "https://localhost:8080/",
          "height": 527
        }
      },
      "outputs": [
        {
          "output_type": "stream",
          "name": "stderr",
          "text": [
            "\r[*********************100%***********************]  1 of 1 completed\n"
          ]
        },
        {
          "output_type": "execute_result",
          "data": {
            "text/plain": [
              "Date\n",
              "2024-03-09    68498.882812\n",
              "2024-03-10    69019.789062\n",
              "2024-03-11    72123.906250\n",
              "2024-03-12    71481.289062\n",
              "2024-03-13    73083.500000\n",
              "                  ...     \n",
              "2024-09-05    56160.488281\n",
              "2024-09-06    53948.753906\n",
              "2024-09-07    54139.687500\n",
              "2024-09-08    54841.566406\n",
              "2024-09-09    57692.039062\n",
              "Name: Adj Close, Length: 185, dtype: float64"
            ],
            "text/html": [
              "<div>\n",
              "<style scoped>\n",
              "    .dataframe tbody tr th:only-of-type {\n",
              "        vertical-align: middle;\n",
              "    }\n",
              "\n",
              "    .dataframe tbody tr th {\n",
              "        vertical-align: top;\n",
              "    }\n",
              "\n",
              "    .dataframe thead th {\n",
              "        text-align: right;\n",
              "    }\n",
              "</style>\n",
              "<table border=\"1\" class=\"dataframe\">\n",
              "  <thead>\n",
              "    <tr style=\"text-align: right;\">\n",
              "      <th></th>\n",
              "      <th>Adj Close</th>\n",
              "    </tr>\n",
              "    <tr>\n",
              "      <th>Date</th>\n",
              "      <th></th>\n",
              "    </tr>\n",
              "  </thead>\n",
              "  <tbody>\n",
              "    <tr>\n",
              "      <th>2024-03-09</th>\n",
              "      <td>68498.882812</td>\n",
              "    </tr>\n",
              "    <tr>\n",
              "      <th>2024-03-10</th>\n",
              "      <td>69019.789062</td>\n",
              "    </tr>\n",
              "    <tr>\n",
              "      <th>2024-03-11</th>\n",
              "      <td>72123.906250</td>\n",
              "    </tr>\n",
              "    <tr>\n",
              "      <th>2024-03-12</th>\n",
              "      <td>71481.289062</td>\n",
              "    </tr>\n",
              "    <tr>\n",
              "      <th>2024-03-13</th>\n",
              "      <td>73083.500000</td>\n",
              "    </tr>\n",
              "    <tr>\n",
              "      <th>...</th>\n",
              "      <td>...</td>\n",
              "    </tr>\n",
              "    <tr>\n",
              "      <th>2024-09-05</th>\n",
              "      <td>56160.488281</td>\n",
              "    </tr>\n",
              "    <tr>\n",
              "      <th>2024-09-06</th>\n",
              "      <td>53948.753906</td>\n",
              "    </tr>\n",
              "    <tr>\n",
              "      <th>2024-09-07</th>\n",
              "      <td>54139.687500</td>\n",
              "    </tr>\n",
              "    <tr>\n",
              "      <th>2024-09-08</th>\n",
              "      <td>54841.566406</td>\n",
              "    </tr>\n",
              "    <tr>\n",
              "      <th>2024-09-09</th>\n",
              "      <td>57692.039062</td>\n",
              "    </tr>\n",
              "  </tbody>\n",
              "</table>\n",
              "<p>185 rows × 1 columns</p>\n",
              "</div><br><label><b>dtype:</b> float64</label>"
            ]
          },
          "metadata": {},
          "execution_count": 35
        }
      ],
      "source": [
        "dados_mercado = yf.download(tickers, period = \"6mo\")\n",
        "dados_mercado = dados_mercado[\"Adj Close\"]\n",
        "dados_mercado"
      ]
    },
    {
      "cell_type": "markdown",
      "id": "e76d0dd9-84dc-4f76-8273-5c5cd9c63166",
      "metadata": {
        "id": "e76d0dd9-84dc-4f76-8273-5c5cd9c63166"
      },
      "source": [
        "# Passo 3 - Tratar dados coletados."
      ]
    },
    {
      "cell_type": "code",
      "execution_count": 36,
      "id": "a61ba6f9-f42f-44b5-80e3-9d414fe5fa8d",
      "metadata": {
        "id": "a61ba6f9-f42f-44b5-80e3-9d414fe5fa8d",
        "outputId": "b5694e0f-6f74-4140-d9f2-8f7e0b139a64",
        "colab": {
          "base_uri": "https://localhost:8080/",
          "height": 489
        }
      },
      "outputs": [
        {
          "output_type": "execute_result",
          "data": {
            "text/plain": [
              "Date\n",
              "2024-03-09    68498.882812\n",
              "2024-03-10    69019.789062\n",
              "2024-03-11    72123.906250\n",
              "2024-03-12    71481.289062\n",
              "2024-03-13    73083.500000\n",
              "                  ...     \n",
              "2024-09-05    56160.488281\n",
              "2024-09-06    53948.753906\n",
              "2024-09-07    54139.687500\n",
              "2024-09-08    54841.566406\n",
              "2024-09-09    57692.039062\n",
              "Name: Adj Close, Length: 185, dtype: float64"
            ],
            "text/html": [
              "<div>\n",
              "<style scoped>\n",
              "    .dataframe tbody tr th:only-of-type {\n",
              "        vertical-align: middle;\n",
              "    }\n",
              "\n",
              "    .dataframe tbody tr th {\n",
              "        vertical-align: top;\n",
              "    }\n",
              "\n",
              "    .dataframe thead th {\n",
              "        text-align: right;\n",
              "    }\n",
              "</style>\n",
              "<table border=\"1\" class=\"dataframe\">\n",
              "  <thead>\n",
              "    <tr style=\"text-align: right;\">\n",
              "      <th></th>\n",
              "      <th>Adj Close</th>\n",
              "    </tr>\n",
              "    <tr>\n",
              "      <th>Date</th>\n",
              "      <th></th>\n",
              "    </tr>\n",
              "  </thead>\n",
              "  <tbody>\n",
              "    <tr>\n",
              "      <th>2024-03-09</th>\n",
              "      <td>68498.882812</td>\n",
              "    </tr>\n",
              "    <tr>\n",
              "      <th>2024-03-10</th>\n",
              "      <td>69019.789062</td>\n",
              "    </tr>\n",
              "    <tr>\n",
              "      <th>2024-03-11</th>\n",
              "      <td>72123.906250</td>\n",
              "    </tr>\n",
              "    <tr>\n",
              "      <th>2024-03-12</th>\n",
              "      <td>71481.289062</td>\n",
              "    </tr>\n",
              "    <tr>\n",
              "      <th>2024-03-13</th>\n",
              "      <td>73083.500000</td>\n",
              "    </tr>\n",
              "    <tr>\n",
              "      <th>...</th>\n",
              "      <td>...</td>\n",
              "    </tr>\n",
              "    <tr>\n",
              "      <th>2024-09-05</th>\n",
              "      <td>56160.488281</td>\n",
              "    </tr>\n",
              "    <tr>\n",
              "      <th>2024-09-06</th>\n",
              "      <td>53948.753906</td>\n",
              "    </tr>\n",
              "    <tr>\n",
              "      <th>2024-09-07</th>\n",
              "      <td>54139.687500</td>\n",
              "    </tr>\n",
              "    <tr>\n",
              "      <th>2024-09-08</th>\n",
              "      <td>54841.566406</td>\n",
              "    </tr>\n",
              "    <tr>\n",
              "      <th>2024-09-09</th>\n",
              "      <td>57692.039062</td>\n",
              "    </tr>\n",
              "  </tbody>\n",
              "</table>\n",
              "<p>185 rows × 1 columns</p>\n",
              "</div><br><label><b>dtype:</b> float64</label>"
            ]
          },
          "metadata": {},
          "execution_count": 36
        }
      ],
      "source": [
        "dados_mercado = dados_mercado.dropna()\n",
        "\n",
        "dados_mercado"
      ]
    },
    {
      "cell_type": "code",
      "execution_count": 37,
      "id": "d10d22d9-105d-4c87-9d5d-d53b229c0de3",
      "metadata": {
        "id": "d10d22d9-105d-4c87-9d5d-d53b229c0de3",
        "outputId": "9075a9ac-9b2a-4603-b7b5-809b55afdf0a",
        "colab": {
          "base_uri": "https://localhost:8080/",
          "height": 489
        }
      },
      "outputs": [
        {
          "output_type": "execute_result",
          "data": {
            "text/plain": [
              "Date\n",
              "2024-03-09    68498.882812\n",
              "2024-03-10    69019.789062\n",
              "2024-03-11    72123.906250\n",
              "2024-03-12    71481.289062\n",
              "2024-03-13    73083.500000\n",
              "                  ...     \n",
              "2024-09-05    56160.488281\n",
              "2024-09-06    53948.753906\n",
              "2024-09-07    54139.687500\n",
              "2024-09-08    54841.566406\n",
              "2024-09-09    57692.039062\n",
              "Name: Adj Close, Length: 185, dtype: float64"
            ],
            "text/html": [
              "<div>\n",
              "<style scoped>\n",
              "    .dataframe tbody tr th:only-of-type {\n",
              "        vertical-align: middle;\n",
              "    }\n",
              "\n",
              "    .dataframe tbody tr th {\n",
              "        vertical-align: top;\n",
              "    }\n",
              "\n",
              "    .dataframe thead th {\n",
              "        text-align: right;\n",
              "    }\n",
              "</style>\n",
              "<table border=\"1\" class=\"dataframe\">\n",
              "  <thead>\n",
              "    <tr style=\"text-align: right;\">\n",
              "      <th></th>\n",
              "      <th>Adj Close</th>\n",
              "    </tr>\n",
              "    <tr>\n",
              "      <th>Date</th>\n",
              "      <th></th>\n",
              "    </tr>\n",
              "  </thead>\n",
              "  <tbody>\n",
              "    <tr>\n",
              "      <th>2024-03-09</th>\n",
              "      <td>68498.882812</td>\n",
              "    </tr>\n",
              "    <tr>\n",
              "      <th>2024-03-10</th>\n",
              "      <td>69019.789062</td>\n",
              "    </tr>\n",
              "    <tr>\n",
              "      <th>2024-03-11</th>\n",
              "      <td>72123.906250</td>\n",
              "    </tr>\n",
              "    <tr>\n",
              "      <th>2024-03-12</th>\n",
              "      <td>71481.289062</td>\n",
              "    </tr>\n",
              "    <tr>\n",
              "      <th>2024-03-13</th>\n",
              "      <td>73083.500000</td>\n",
              "    </tr>\n",
              "    <tr>\n",
              "      <th>...</th>\n",
              "      <td>...</td>\n",
              "    </tr>\n",
              "    <tr>\n",
              "      <th>2024-09-05</th>\n",
              "      <td>56160.488281</td>\n",
              "    </tr>\n",
              "    <tr>\n",
              "      <th>2024-09-06</th>\n",
              "      <td>53948.753906</td>\n",
              "    </tr>\n",
              "    <tr>\n",
              "      <th>2024-09-07</th>\n",
              "      <td>54139.687500</td>\n",
              "    </tr>\n",
              "    <tr>\n",
              "      <th>2024-09-08</th>\n",
              "      <td>54841.566406</td>\n",
              "    </tr>\n",
              "    <tr>\n",
              "      <th>2024-09-09</th>\n",
              "      <td>57692.039062</td>\n",
              "    </tr>\n",
              "  </tbody>\n",
              "</table>\n",
              "<p>185 rows × 1 columns</p>\n",
              "</div><br><label><b>dtype:</b> float64</label>"
            ]
          },
          "metadata": {},
          "execution_count": 37
        }
      ],
      "source": [
        "dados_mercado.columns = [\"BTC-USD\"]\n",
        "\n",
        "dados_mercado"
      ]
    },
    {
      "cell_type": "markdown",
      "id": "0e4b7ce7-589c-49c5-997d-9b1567cb3db5",
      "metadata": {
        "id": "0e4b7ce7-589c-49c5-997d-9b1567cb3db5"
      },
      "source": [
        "# Passo 4 - Criar gráficos de performance."
      ]
    },
    {
      "cell_type": "code",
      "source": [
        "dados_mercado"
      ],
      "metadata": {
        "id": "xFc3PQ7HquzB",
        "outputId": "d67c96f2-369b-4cc0-9ca0-9a54f1f28800",
        "colab": {
          "base_uri": "https://localhost:8080/",
          "height": 489
        }
      },
      "id": "xFc3PQ7HquzB",
      "execution_count": 31,
      "outputs": [
        {
          "output_type": "execute_result",
          "data": {
            "text/plain": [
              "Date\n",
              "2024-03-09    68498.882812\n",
              "2024-03-10    69019.789062\n",
              "2024-03-11    72123.906250\n",
              "2024-03-12    71481.289062\n",
              "2024-03-13    73083.500000\n",
              "                  ...     \n",
              "2024-09-05    56160.488281\n",
              "2024-09-06    53948.753906\n",
              "2024-09-07    54139.687500\n",
              "2024-09-08    54841.566406\n",
              "2024-09-09    57732.671875\n",
              "Name: Adj Close, Length: 185, dtype: float64"
            ],
            "text/html": [
              "<div>\n",
              "<style scoped>\n",
              "    .dataframe tbody tr th:only-of-type {\n",
              "        vertical-align: middle;\n",
              "    }\n",
              "\n",
              "    .dataframe tbody tr th {\n",
              "        vertical-align: top;\n",
              "    }\n",
              "\n",
              "    .dataframe thead th {\n",
              "        text-align: right;\n",
              "    }\n",
              "</style>\n",
              "<table border=\"1\" class=\"dataframe\">\n",
              "  <thead>\n",
              "    <tr style=\"text-align: right;\">\n",
              "      <th></th>\n",
              "      <th>Adj Close</th>\n",
              "    </tr>\n",
              "    <tr>\n",
              "      <th>Date</th>\n",
              "      <th></th>\n",
              "    </tr>\n",
              "  </thead>\n",
              "  <tbody>\n",
              "    <tr>\n",
              "      <th>2024-03-09</th>\n",
              "      <td>68498.882812</td>\n",
              "    </tr>\n",
              "    <tr>\n",
              "      <th>2024-03-10</th>\n",
              "      <td>69019.789062</td>\n",
              "    </tr>\n",
              "    <tr>\n",
              "      <th>2024-03-11</th>\n",
              "      <td>72123.906250</td>\n",
              "    </tr>\n",
              "    <tr>\n",
              "      <th>2024-03-12</th>\n",
              "      <td>71481.289062</td>\n",
              "    </tr>\n",
              "    <tr>\n",
              "      <th>2024-03-13</th>\n",
              "      <td>73083.500000</td>\n",
              "    </tr>\n",
              "    <tr>\n",
              "      <th>...</th>\n",
              "      <td>...</td>\n",
              "    </tr>\n",
              "    <tr>\n",
              "      <th>2024-09-05</th>\n",
              "      <td>56160.488281</td>\n",
              "    </tr>\n",
              "    <tr>\n",
              "      <th>2024-09-06</th>\n",
              "      <td>53948.753906</td>\n",
              "    </tr>\n",
              "    <tr>\n",
              "      <th>2024-09-07</th>\n",
              "      <td>54139.687500</td>\n",
              "    </tr>\n",
              "    <tr>\n",
              "      <th>2024-09-08</th>\n",
              "      <td>54841.566406</td>\n",
              "    </tr>\n",
              "    <tr>\n",
              "      <th>2024-09-09</th>\n",
              "      <td>57732.671875</td>\n",
              "    </tr>\n",
              "  </tbody>\n",
              "</table>\n",
              "<p>185 rows × 1 columns</p>\n",
              "</div><br><label><b>dtype:</b> float64</label>"
            ]
          },
          "metadata": {},
          "execution_count": 31
        }
      ]
    },
    {
      "cell_type": "code",
      "source": [
        "dados_mercado.columns"
      ],
      "metadata": {
        "id": "-KhGBVV0qf3V",
        "outputId": "22f506a0-89df-4cd7-b415-988ded9b3c65",
        "colab": {
          "base_uri": "https://localhost:8080/"
        }
      },
      "id": "-KhGBVV0qf3V",
      "execution_count": 28,
      "outputs": [
        {
          "output_type": "execute_result",
          "data": {
            "text/plain": [
              "['BTC-USD']"
            ]
          },
          "metadata": {},
          "execution_count": 28
        }
      ]
    },
    {
      "cell_type": "code",
      "execution_count": 29,
      "id": "60aff313-089a-425f-b328-e71bd745313f",
      "metadata": {
        "id": "60aff313-089a-425f-b328-e71bd745313f"
      },
      "outputs": [],
      "source": [
        "plt.style.use(\"cyberpunk\")"
      ]
    },
    {
      "cell_type": "code",
      "execution_count": 33,
      "id": "a17d5a37-b138-433d-b28a-06046e0c2386",
      "metadata": {
        "id": "a17d5a37-b138-433d-b28a-06046e0c2386",
        "outputId": "17a7f222-c049-4b61-8f68-1e8c1605d324",
        "colab": {
          "base_uri": "https://localhost:8080/",
          "height": 862
        }
      },
      "outputs": [
        {
          "output_type": "error",
          "ename": "KeyError",
          "evalue": "'Adj Close'",
          "traceback": [
            "\u001b[0;31m---------------------------------------------------------------------------\u001b[0m",
            "\u001b[0;31mDateParseError\u001b[0m                            Traceback (most recent call last)",
            "\u001b[0;32m/usr/local/lib/python3.10/dist-packages/pandas/core/indexes/datetimes.py\u001b[0m in \u001b[0;36mget_loc\u001b[0;34m(self, key)\u001b[0m\n\u001b[1;32m    603\u001b[0m             \u001b[0;32mtry\u001b[0m\u001b[0;34m:\u001b[0m\u001b[0;34m\u001b[0m\u001b[0;34m\u001b[0m\u001b[0m\n\u001b[0;32m--> 604\u001b[0;31m                 \u001b[0mparsed\u001b[0m\u001b[0;34m,\u001b[0m \u001b[0mreso\u001b[0m \u001b[0;34m=\u001b[0m \u001b[0mself\u001b[0m\u001b[0;34m.\u001b[0m\u001b[0m_parse_with_reso\u001b[0m\u001b[0;34m(\u001b[0m\u001b[0mkey\u001b[0m\u001b[0;34m)\u001b[0m\u001b[0;34m\u001b[0m\u001b[0;34m\u001b[0m\u001b[0m\n\u001b[0m\u001b[1;32m    605\u001b[0m             \u001b[0;32mexcept\u001b[0m \u001b[0;34m(\u001b[0m\u001b[0mValueError\u001b[0m\u001b[0;34m,\u001b[0m \u001b[0mpytz\u001b[0m\u001b[0;34m.\u001b[0m\u001b[0mNonExistentTimeError\u001b[0m\u001b[0;34m)\u001b[0m \u001b[0;32mas\u001b[0m \u001b[0merr\u001b[0m\u001b[0;34m:\u001b[0m\u001b[0;34m\u001b[0m\u001b[0;34m\u001b[0m\u001b[0m\n",
            "\u001b[0;32m/usr/local/lib/python3.10/dist-packages/pandas/core/indexes/datetimes.py\u001b[0m in \u001b[0;36m_parse_with_reso\u001b[0;34m(self, label)\u001b[0m\n\u001b[1;32m    559\u001b[0m     \u001b[0;32mdef\u001b[0m \u001b[0m_parse_with_reso\u001b[0m\u001b[0;34m(\u001b[0m\u001b[0mself\u001b[0m\u001b[0;34m,\u001b[0m \u001b[0mlabel\u001b[0m\u001b[0;34m:\u001b[0m \u001b[0mstr\u001b[0m\u001b[0;34m)\u001b[0m\u001b[0;34m:\u001b[0m\u001b[0;34m\u001b[0m\u001b[0;34m\u001b[0m\u001b[0m\n\u001b[0;32m--> 560\u001b[0;31m         \u001b[0mparsed\u001b[0m\u001b[0;34m,\u001b[0m \u001b[0mreso\u001b[0m \u001b[0;34m=\u001b[0m \u001b[0msuper\u001b[0m\u001b[0;34m(\u001b[0m\u001b[0;34m)\u001b[0m\u001b[0;34m.\u001b[0m\u001b[0m_parse_with_reso\u001b[0m\u001b[0;34m(\u001b[0m\u001b[0mlabel\u001b[0m\u001b[0;34m)\u001b[0m\u001b[0;34m\u001b[0m\u001b[0;34m\u001b[0m\u001b[0m\n\u001b[0m\u001b[1;32m    561\u001b[0m \u001b[0;34m\u001b[0m\u001b[0m\n",
            "\u001b[0;32m/usr/local/lib/python3.10/dist-packages/pandas/core/indexes/datetimelike.py\u001b[0m in \u001b[0;36m_parse_with_reso\u001b[0;34m(self, label)\u001b[0m\n\u001b[1;32m    269\u001b[0m \u001b[0;34m\u001b[0m\u001b[0m\n\u001b[0;32m--> 270\u001b[0;31m         \u001b[0mparsed\u001b[0m\u001b[0;34m,\u001b[0m \u001b[0mreso_str\u001b[0m \u001b[0;34m=\u001b[0m \u001b[0mparsing\u001b[0m\u001b[0;34m.\u001b[0m\u001b[0mparse_datetime_string_with_reso\u001b[0m\u001b[0;34m(\u001b[0m\u001b[0mlabel\u001b[0m\u001b[0;34m,\u001b[0m \u001b[0mfreqstr\u001b[0m\u001b[0;34m)\u001b[0m\u001b[0;34m\u001b[0m\u001b[0;34m\u001b[0m\u001b[0m\n\u001b[0m\u001b[1;32m    271\u001b[0m         \u001b[0mreso\u001b[0m \u001b[0;34m=\u001b[0m \u001b[0mResolution\u001b[0m\u001b[0;34m.\u001b[0m\u001b[0mfrom_attrname\u001b[0m\u001b[0;34m(\u001b[0m\u001b[0mreso_str\u001b[0m\u001b[0;34m)\u001b[0m\u001b[0;34m\u001b[0m\u001b[0;34m\u001b[0m\u001b[0m\n",
            "\u001b[0;32mparsing.pyx\u001b[0m in \u001b[0;36mpandas._libs.tslibs.parsing.parse_datetime_string_with_reso\u001b[0;34m()\u001b[0m\n",
            "\u001b[0;32mparsing.pyx\u001b[0m in \u001b[0;36mpandas._libs.tslibs.parsing.dateutil_parse\u001b[0;34m()\u001b[0m\n",
            "\u001b[0;31mDateParseError\u001b[0m: Unknown datetime string format, unable to parse: Adj Close",
            "\nThe above exception was the direct cause of the following exception:\n",
            "\u001b[0;31mKeyError\u001b[0m                                  Traceback (most recent call last)",
            "\u001b[0;32m<ipython-input-33-30dd11bd78cb>\u001b[0m in \u001b[0;36m<cell line: 1>\u001b[0;34m()\u001b[0m\n\u001b[0;32m----> 1\u001b[0;31m \u001b[0mplt\u001b[0m\u001b[0;34m.\u001b[0m\u001b[0mplot\u001b[0m\u001b[0;34m(\u001b[0m\u001b[0mdados_mercado\u001b[0m\u001b[0;34m[\u001b[0m\u001b[0;34m\"Adj Close\"\u001b[0m\u001b[0;34m]\u001b[0m\u001b[0;34m)\u001b[0m\u001b[0;34m\u001b[0m\u001b[0;34m\u001b[0m\u001b[0m\n\u001b[0m\u001b[1;32m      2\u001b[0m \u001b[0mplt\u001b[0m\u001b[0;34m.\u001b[0m\u001b[0mtitle\u001b[0m\u001b[0;34m(\u001b[0m\u001b[0;34m\"Bitcoin\"\u001b[0m\u001b[0;34m)\u001b[0m\u001b[0;34m\u001b[0m\u001b[0;34m\u001b[0m\u001b[0m\n\u001b[1;32m      3\u001b[0m \u001b[0;34m\u001b[0m\u001b[0m\n\u001b[1;32m      4\u001b[0m \u001b[0mplt\u001b[0m\u001b[0;34m.\u001b[0m\u001b[0msavefig\u001b[0m\u001b[0;34m(\u001b[0m\u001b[0;34m\"bitcoin.png\"\u001b[0m\u001b[0;34m)\u001b[0m\u001b[0;34m\u001b[0m\u001b[0;34m\u001b[0m\u001b[0m\n",
            "\u001b[0;32m/usr/local/lib/python3.10/dist-packages/pandas/core/series.py\u001b[0m in \u001b[0;36m__getitem__\u001b[0;34m(self, key)\u001b[0m\n\u001b[1;32m   1038\u001b[0m \u001b[0;34m\u001b[0m\u001b[0m\n\u001b[1;32m   1039\u001b[0m         \u001b[0;32melif\u001b[0m \u001b[0mkey_is_scalar\u001b[0m\u001b[0;34m:\u001b[0m\u001b[0;34m\u001b[0m\u001b[0;34m\u001b[0m\u001b[0m\n\u001b[0;32m-> 1040\u001b[0;31m             \u001b[0;32mreturn\u001b[0m \u001b[0mself\u001b[0m\u001b[0;34m.\u001b[0m\u001b[0m_get_value\u001b[0m\u001b[0;34m(\u001b[0m\u001b[0mkey\u001b[0m\u001b[0;34m)\u001b[0m\u001b[0;34m\u001b[0m\u001b[0;34m\u001b[0m\u001b[0m\n\u001b[0m\u001b[1;32m   1041\u001b[0m \u001b[0;34m\u001b[0m\u001b[0m\n\u001b[1;32m   1042\u001b[0m         \u001b[0;31m# Convert generator to list before going through hashable part\u001b[0m\u001b[0;34m\u001b[0m\u001b[0;34m\u001b[0m\u001b[0m\n",
            "\u001b[0;32m/usr/local/lib/python3.10/dist-packages/pandas/core/series.py\u001b[0m in \u001b[0;36m_get_value\u001b[0;34m(self, label, takeable)\u001b[0m\n\u001b[1;32m   1154\u001b[0m \u001b[0;34m\u001b[0m\u001b[0m\n\u001b[1;32m   1155\u001b[0m         \u001b[0;31m# Similar to Index.get_value, but we do not fall back to positional\u001b[0m\u001b[0;34m\u001b[0m\u001b[0;34m\u001b[0m\u001b[0m\n\u001b[0;32m-> 1156\u001b[0;31m         \u001b[0mloc\u001b[0m \u001b[0;34m=\u001b[0m \u001b[0mself\u001b[0m\u001b[0;34m.\u001b[0m\u001b[0mindex\u001b[0m\u001b[0;34m.\u001b[0m\u001b[0mget_loc\u001b[0m\u001b[0;34m(\u001b[0m\u001b[0mlabel\u001b[0m\u001b[0;34m)\u001b[0m\u001b[0;34m\u001b[0m\u001b[0;34m\u001b[0m\u001b[0m\n\u001b[0m\u001b[1;32m   1157\u001b[0m \u001b[0;34m\u001b[0m\u001b[0m\n\u001b[1;32m   1158\u001b[0m         \u001b[0;32mif\u001b[0m \u001b[0mis_integer\u001b[0m\u001b[0;34m(\u001b[0m\u001b[0mloc\u001b[0m\u001b[0;34m)\u001b[0m\u001b[0;34m:\u001b[0m\u001b[0;34m\u001b[0m\u001b[0;34m\u001b[0m\u001b[0m\n",
            "\u001b[0;32m/usr/local/lib/python3.10/dist-packages/pandas/core/indexes/datetimes.py\u001b[0m in \u001b[0;36mget_loc\u001b[0;34m(self, key)\u001b[0m\n\u001b[1;32m    604\u001b[0m                 \u001b[0mparsed\u001b[0m\u001b[0;34m,\u001b[0m \u001b[0mreso\u001b[0m \u001b[0;34m=\u001b[0m \u001b[0mself\u001b[0m\u001b[0;34m.\u001b[0m\u001b[0m_parse_with_reso\u001b[0m\u001b[0;34m(\u001b[0m\u001b[0mkey\u001b[0m\u001b[0;34m)\u001b[0m\u001b[0;34m\u001b[0m\u001b[0;34m\u001b[0m\u001b[0m\n\u001b[1;32m    605\u001b[0m             \u001b[0;32mexcept\u001b[0m \u001b[0;34m(\u001b[0m\u001b[0mValueError\u001b[0m\u001b[0;34m,\u001b[0m \u001b[0mpytz\u001b[0m\u001b[0;34m.\u001b[0m\u001b[0mNonExistentTimeError\u001b[0m\u001b[0;34m)\u001b[0m \u001b[0;32mas\u001b[0m \u001b[0merr\u001b[0m\u001b[0;34m:\u001b[0m\u001b[0;34m\u001b[0m\u001b[0;34m\u001b[0m\u001b[0m\n\u001b[0;32m--> 606\u001b[0;31m                 \u001b[0;32mraise\u001b[0m \u001b[0mKeyError\u001b[0m\u001b[0;34m(\u001b[0m\u001b[0mkey\u001b[0m\u001b[0;34m)\u001b[0m \u001b[0;32mfrom\u001b[0m \u001b[0merr\u001b[0m\u001b[0;34m\u001b[0m\u001b[0;34m\u001b[0m\u001b[0m\n\u001b[0m\u001b[1;32m    607\u001b[0m             \u001b[0mself\u001b[0m\u001b[0;34m.\u001b[0m\u001b[0m_disallow_mismatched_indexing\u001b[0m\u001b[0;34m(\u001b[0m\u001b[0mparsed\u001b[0m\u001b[0;34m)\u001b[0m\u001b[0;34m\u001b[0m\u001b[0;34m\u001b[0m\u001b[0m\n\u001b[1;32m    608\u001b[0m \u001b[0;34m\u001b[0m\u001b[0m\n",
            "\u001b[0;31mKeyError\u001b[0m: 'Adj Close'"
          ]
        }
      ],
      "source": [
        "plt.plot(dados_mercado[\"Adj Close\"])\n",
        "plt.title(\"Bitcoin\")\n",
        "\n",
        "plt.savefig(\"bitcoin.png\")"
      ]
    },
    {
      "cell_type": "markdown",
      "id": "79f9baa1-bb6f-4b71-a421-c8f7d9790e21",
      "metadata": {
        "id": "79f9baa1-bb6f-4b71-a421-c8f7d9790e21"
      },
      "source": [
        "# Passo 5 - Calcular retornos diários."
      ]
    },
    {
      "cell_type": "code",
      "execution_count": null,
      "id": "a7f47c8d-589c-4063-ad99-885c9fa38898",
      "metadata": {
        "id": "a7f47c8d-589c-4063-ad99-885c9fa38898"
      },
      "outputs": [],
      "source": [
        "retornos_diarios = dados_mercado.pct_change()\n",
        "\n",
        "retornos_diarios"
      ]
    },
    {
      "cell_type": "code",
      "execution_count": null,
      "id": "1330a1c4-7f36-443e-b920-cb6d7d905855",
      "metadata": {
        "id": "1330a1c4-7f36-443e-b920-cb6d7d905855"
      },
      "outputs": [],
      "source": [
        "retornos_diarios[\"DOLAR\"].iloc[-3]"
      ]
    },
    {
      "cell_type": "code",
      "execution_count": null,
      "id": "a4813b92-7d96-4262-9450-350b54be8e94",
      "metadata": {
        "id": "a4813b92-7d96-4262-9450-350b54be8e94"
      },
      "outputs": [],
      "source": [
        "retorno_dolar = retornos_diarios[\"DOLAR\"].iloc[-1]\n",
        "retorno_ibovespa = retornos_diarios[\"IBOVESPA\"].iloc[-1]\n",
        "retorno_sp = retornos_diarios[\"S&P500\"].iloc[-1]"
      ]
    },
    {
      "cell_type": "code",
      "execution_count": null,
      "id": "214a25de-dbc9-496c-967b-6000efc70cd7",
      "metadata": {
        "id": "214a25de-dbc9-496c-967b-6000efc70cd7"
      },
      "outputs": [],
      "source": [
        "retorno_dolar = str(round(retorno_dolar * 100, 2)) + \"%\"\n",
        "\n",
        "retorno_dolar"
      ]
    },
    {
      "cell_type": "code",
      "execution_count": null,
      "id": "55c68e0f-6c01-4903-961e-19708153d002",
      "metadata": {
        "id": "55c68e0f-6c01-4903-961e-19708153d002"
      },
      "outputs": [],
      "source": [
        "retorno_ibovespa = str(round(retorno_ibovespa * 100, 2)) + \"%\"\n",
        "retorno_sp = str(round(retorno_sp * 100, 2)) + \"%\"\n",
        "\n",
        "retorno_sp"
      ]
    },
    {
      "cell_type": "code",
      "execution_count": null,
      "id": "823a8bdd-eb15-4949-91ae-74c579ac74c3",
      "metadata": {
        "id": "823a8bdd-eb15-4949-91ae-74c579ac74c3"
      },
      "outputs": [],
      "source": [
        "retorno_ibovespa"
      ]
    },
    {
      "cell_type": "markdown",
      "id": "efda1f6d-41c4-4f9d-9886-88e9533604cb",
      "metadata": {
        "id": "efda1f6d-41c4-4f9d-9886-88e9533604cb"
      },
      "source": [
        "# Passo 6 - Configurar e enviar o e-mail"
      ]
    },
    {
      "cell_type": "code",
      "execution_count": null,
      "id": "7539ad87-b1b9-465f-ac99-851632800b36",
      "metadata": {
        "id": "7539ad87-b1b9-465f-ac99-851632800b36"
      },
      "outputs": [],
      "source": [
        "!pip install pywin32"
      ]
    },
    {
      "cell_type": "code",
      "execution_count": null,
      "id": "3e60a693-7395-4162-974b-020c8cc36cc9",
      "metadata": {
        "id": "3e60a693-7395-4162-974b-020c8cc36cc9"
      },
      "outputs": [],
      "source": [
        "import win32com.client as win32"
      ]
    },
    {
      "cell_type": "code",
      "execution_count": null,
      "id": "03d6d120-3214-4638-b67f-759938b2ca20",
      "metadata": {
        "id": "03d6d120-3214-4638-b67f-759938b2ca20"
      },
      "outputs": [],
      "source": [
        "outlook = win32.Dispatch(\"outlook.application\")\n",
        "\n",
        "email = outlook.CreateItem(0)"
      ]
    },
    {
      "cell_type": "code",
      "execution_count": null,
      "id": "81b7b945-5c1d-4904-99b0-4856183ed571",
      "metadata": {
        "id": "81b7b945-5c1d-4904-99b0-4856183ed571"
      },
      "outputs": [],
      "source": [
        "email.To = \"evento@varos.com.br\"\n",
        "email.Subject = \"Relatório de Mercado\"\n",
        "email.Body = f'''Prezado diretor, segue o relatório de mercado:\n",
        "\n",
        "* O Ibovespa teve o retorno de {retorno_ibovespa}.\n",
        "* O Dólar teve o retorno de {retorno_dolar}.\n",
        "* O S&P500 teve o retorno de {retorno_sp}.\n",
        "\n",
        "Segue em anexo a peformance dos ativos nos últimos 6 meses.\n",
        "\n",
        "Att,\n",
        "Melhor estagiário do mundo\n",
        "\n",
        "\n",
        "'''\n",
        "\n",
        "anexo_ibovespa = r\"C:\\Users\\VAROS\\Downloads\\ibovespa.png\"\n",
        "anexo_dolar = r\"C:\\Users\\VAROS\\Downloads\\dolar.png\"\n",
        "anexo_sp = r\"C:\\Users\\VAROS\\Downloads\\sp500.png\"\n",
        "\n",
        "email.Attachments.Add(anexo_ibovespa)\n",
        "email.Attachments.Add(anexo_dolar)\n",
        "email.Attachments.Add(anexo_sp)\n",
        "\n",
        "email.Send()\n"
      ]
    },
    {
      "cell_type": "code",
      "execution_count": null,
      "id": "68876d20-8ef8-4c46-8d40-47a09ac97d14",
      "metadata": {
        "id": "68876d20-8ef8-4c46-8d40-47a09ac97d14"
      },
      "outputs": [],
      "source": []
    },
    {
      "cell_type": "code",
      "execution_count": null,
      "id": "0ee49818-a025-4376-aa35-0fd8f01ab89b",
      "metadata": {
        "id": "0ee49818-a025-4376-aa35-0fd8f01ab89b"
      },
      "outputs": [],
      "source": []
    },
    {
      "cell_type": "code",
      "execution_count": null,
      "id": "e769424a-4a24-46db-9c1a-3c32980004d6",
      "metadata": {
        "id": "e769424a-4a24-46db-9c1a-3c32980004d6"
      },
      "outputs": [],
      "source": []
    }
  ],
  "metadata": {
    "kernelspec": {
      "display_name": "Python 3 (ipykernel)",
      "language": "python",
      "name": "python3"
    },
    "language_info": {
      "codemirror_mode": {
        "name": "ipython",
        "version": 3
      },
      "file_extension": ".py",
      "mimetype": "text/x-python",
      "name": "python",
      "nbconvert_exporter": "python",
      "pygments_lexer": "ipython3",
      "version": "3.11.7"
    },
    "colab": {
      "provenance": [],
      "include_colab_link": true
    }
  },
  "nbformat": 4,
  "nbformat_minor": 5
}